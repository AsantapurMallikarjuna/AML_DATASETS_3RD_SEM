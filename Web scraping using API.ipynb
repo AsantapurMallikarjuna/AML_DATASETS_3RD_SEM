{
 "cells": [
  {
   "cell_type": "code",
   "execution_count": 16,
   "id": "96e98b06",
   "metadata": {},
   "outputs": [
    {
     "name": "stdout",
     "output_type": "stream",
     "text": [
      "Weather in Karkala on 2023-05-17:\n",
      "Temperature: 30.9°C\n",
      "Humidity: 68.0%\n",
      "Weather description: Partly cloudy\n",
      "-----------------------\n",
      "Weather in Karkala on 2023-05-18:\n",
      "Temperature: 30.8°C\n",
      "Humidity: 69.0%\n",
      "Weather description: Patchy rain possible\n",
      "-----------------------\n",
      "Weather in Karkala on 2023-05-19:\n",
      "Temperature: 30.4°C\n",
      "Humidity: 69.0%\n",
      "Weather description: Partly cloudy\n",
      "-----------------------\n",
      "Weather in Karkala on 2023-05-20:\n",
      "Temperature: 30.5°C\n",
      "Humidity: 70.0%\n",
      "Weather description: Patchy rain possible\n",
      "-----------------------\n",
      "Weather in Karkala on 2023-05-21:\n",
      "Temperature: 30.6°C\n",
      "Humidity: 69.0%\n",
      "Weather description: Patchy rain possible\n",
      "-----------------------\n",
      "Weather in Karkala on 2023-05-22:\n",
      "Temperature: 29.6°C\n",
      "Humidity: 73.0%\n",
      "Weather description: Patchy rain possible\n",
      "-----------------------\n",
      "Weather in Karkala on 2023-05-23:\n",
      "Temperature: 29.8°C\n",
      "Humidity: 75.0%\n",
      "Weather description: Patchy light rain with thunder\n",
      "-----------------------\n",
      "Weather in Karkala on 2023-05-24:\n",
      "Temperature: 28.8°C\n",
      "Humidity: 77.0%\n",
      "Weather description: Patchy light rain with thunder\n",
      "-----------------------\n",
      "Weather in Karkala on 2023-05-25:\n",
      "Temperature: 28.5°C\n",
      "Humidity: 77.0%\n",
      "Weather description: Moderate or heavy rain shower\n",
      "-----------------------\n",
      "Weather in Karkala on 2023-05-26:\n",
      "Temperature: 29.7°C\n",
      "Humidity: 69.0%\n",
      "Weather description: Thundery outbreaks possible\n",
      "-----------------------\n",
      "Weather in Karkala on 2023-05-27:\n",
      "Temperature: 29.6°C\n",
      "Humidity: 70.0%\n",
      "Weather description: Patchy rain possible\n",
      "-----------------------\n",
      "Weather in Karkala on 2023-05-28:\n",
      "Temperature: 30.7°C\n",
      "Humidity: 69.0%\n",
      "Weather description: Thundery outbreaks possible\n",
      "-----------------------\n",
      "Weather in Karkala on 2023-05-29:\n",
      "Temperature: 29.8°C\n",
      "Humidity: 70.0%\n",
      "Weather description: Patchy light rain with thunder\n",
      "-----------------------\n",
      "Weather in Karkala on 2023-05-30:\n",
      "Temperature: 30.1°C\n",
      "Humidity: 73.0%\n",
      "Weather description: Thundery outbreaks possible\n",
      "-----------------------\n",
      "Weather in Karkala on 2023-05-31:\n",
      "Temperature: 28.6°C\n",
      "Humidity: 70.0%\n",
      "Weather description: Patchy rain possible\n",
      "-----------------------\n",
      "Weather in Karkala on 2023-06-01:\n",
      "Temperature: 28.7°C\n",
      "Humidity: 77.0%\n",
      "Weather description: Patchy rain possible\n",
      "-----------------------\n",
      "Weather in Karkala on 2023-06-02:\n",
      "Temperature: 29.1°C\n",
      "Humidity: 75.0%\n",
      "Weather description: Thundery outbreaks possible\n",
      "-----------------------\n",
      "Weather in Karkala on 2023-06-03:\n",
      "Temperature: 30.4°C\n",
      "Humidity: 71.0%\n",
      "Weather description: Partly cloudy\n",
      "-----------------------\n",
      "Weather in Karkala on 2023-06-04:\n",
      "Temperature: 29.9°C\n",
      "Humidity: 70.0%\n",
      "Weather description: Light rain shower\n",
      "-----------------------\n",
      "Weather in Karkala on 2023-06-05:\n",
      "Temperature: 29.3°C\n",
      "Humidity: 73.0%\n",
      "Weather description: Patchy rain possible\n",
      "-----------------------\n",
      "Weather in Karkala on 2023-06-06:\n",
      "Temperature: 28.6°C\n",
      "Humidity: 75.0%\n",
      "Weather description: Moderate or heavy rain shower\n",
      "-----------------------\n",
      "Weather in Karkala on 2023-06-07:\n",
      "Temperature: 29.0°C\n",
      "Humidity: 76.0%\n",
      "Weather description: Light rain shower\n",
      "-----------------------\n",
      "Weather in Karkala on 2023-06-08:\n",
      "Temperature: 28.7°C\n",
      "Humidity: 75.0%\n",
      "Weather description: Patchy rain possible\n",
      "-----------------------\n",
      "Weather in Karkala on 2023-06-09:\n",
      "Temperature: 28.5°C\n",
      "Humidity: 77.0%\n",
      "Weather description: Torrential rain shower\n",
      "-----------------------\n",
      "Weather in Karkala on 2023-06-10:\n",
      "Temperature: 28.0°C\n",
      "Humidity: 78.0%\n",
      "Weather description: Moderate or heavy rain shower\n",
      "-----------------------\n",
      "Weather in Karkala on 2023-06-11:\n",
      "Temperature: 28.2°C\n",
      "Humidity: 77.0%\n",
      "Weather description: Moderate or heavy rain shower\n",
      "-----------------------\n",
      "Weather in Karkala on 2023-06-12:\n",
      "Temperature: 28.3°C\n",
      "Humidity: 78.0%\n",
      "Weather description: Moderate or heavy rain shower\n",
      "-----------------------\n",
      "Weather in Karkala on 2023-06-13:\n",
      "Temperature: 28.3°C\n",
      "Humidity: 78.0%\n",
      "Weather description: Light rain shower\n",
      "-----------------------\n",
      "Weather in Karkala on 2023-06-14:\n",
      "Temperature: 28.1°C\n",
      "Humidity: 79.0%\n",
      "Weather description: Moderate or heavy rain shower\n",
      "-----------------------\n",
      "Weather in Karkala on 2023-06-15:\n",
      "Temperature: 28.7°C\n",
      "Humidity: 75.0%\n",
      "Weather description: Light rain shower\n",
      "-----------------------\n",
      "Weather in Karkala on 2023-06-16:\n",
      "Temperature: 29.2°C\n",
      "Humidity: 72.0%\n",
      "Weather description: Patchy rain possible\n",
      "-----------------------\n"
     ]
    }
   ],
   "source": [
    "import requests\n",
    "from datetime import datetime, timedelta\n",
    "\n",
    "def get_weather_data(api_key, city):\n",
    "    end_date = datetime.now().strftime(\"%Y-%m-%d\")\n",
    "    start_date = (datetime.now() - timedelta(days=10)).strftime(\"%Y-%m-%d\")\n",
    "\n",
    "    base_url = f\"http://api.weatherapi.com/v1/history.json?key={api_key}&q={city}&dt={start_date}&end_dt={end_date}\"\n",
    "    response = requests.get(base_url)\n",
    "    data = response.json()\n",
    "\n",
    "    if \"error\" in data:\n",
    "        print(f\"Error occurred: {data['error']['message']}\")\n",
    "    else:\n",
    "        forecast_days = data[\"forecast\"][\"forecastday\"]\n",
    "        for day in forecast_days:\n",
    "            date = day[\"date\"]\n",
    "            temperature = day[\"day\"][\"avgtemp_c\"]\n",
    "            humidity = day[\"day\"][\"avghumidity\"]\n",
    "            weather_description = day[\"day\"][\"condition\"][\"text\"]\n",
    "\n",
    "            # Print the weather information for each day\n",
    "            print(f\"Weather in {city} on {date}:\")\n",
    "            print(f\"Temperature: {temperature}°C\")\n",
    "            print(f\"Humidity: {humidity}%\")\n",
    "            print(f\"Weather description: {weather_description}\")\n",
    "            print(\"-----------------------\")\n",
    "\n",
    "# API key for WeatherAPI (replace with your own key)\n",
    "api_key = \"8779\"\n",
    "\n",
    "# City for which you want to fetch weather data\n",
    "city = \"Karkala\"\n",
    "\n",
    "# Call the function to get weather data\n",
    "get_weather_data(api_key, city)\n"
   ]
  },
  {
   "cell_type": "code",
   "execution_count": 1,
   "id": "5980d278",
   "metadata": {},
   "outputs": [],
   "source": [
    "import requests\n",
    "import csv\n",
    "from datetime import datetime, timedelta\n",
    "\n",
    "def get_weather_data(api_key, city, start_date, end_date):\n",
    "    base_url = f\"http://api.weatherapi.com/v1/history.json?key={api_key}&q={city}&dt={start_date}&end_dt={end_date}\"\n",
    "    response = requests.get(base_url)\n",
    "    data = response.json()\n",
    "\n",
    "    if \"error\" in data:\n",
    "        print(f\"Error occurred: {data['error']['message']}\")\n",
    "    else:\n",
    "        forecast_days = data[\"forecast\"][\"forecastday\"]\n",
    "        for day in forecast_days:\n",
    "            date = day[\"date\"]\n",
    "            temperature = day[\"day\"][\"avgtemp_c\"]\n",
    "            humidity = day[\"day\"][\"avghumidity\"]\n",
    "            weather_description = day[\"day\"][\"condition\"][\"text\"]\n",
    "\n",
    "            # Store weather data in CSV file\n",
    "            with open(\"weather_data.csv\", mode=\"a\", newline=\"\") as file:\n",
    "                writer = csv.writer(file)\n",
    "                writer.writerow([date, temperature, humidity, weather_description])\n",
    "\n",
    "# API key for WeatherAPI (replace with your own key)\n",
    "api_key = \"8779239f369845b7bb8102601231606\"\n",
    "\n",
    "# City for which you want to fetch weather data\n",
    "city = \"Karkala\"\n",
    "\n",
    "# Calculate start and end dates for the previous one month\n",
    "end_date = datetime.now().strftime(\"%Y-%m-%d\")\n",
    "start_date = (datetime.now() - timedelta(days=30)).strftime(\"%Y-%m-%d\")\n",
    "\n",
    "# Call the function to get weather data and store it in CSV file\n",
    "get_weather_data(api_key, city, start_date, end_date)\n"
   ]
  },
  {
   "cell_type": "code",
   "execution_count": 4,
   "id": "62bffc37",
   "metadata": {},
   "outputs": [
    {
     "data": {
      "text/html": [
       "<div>\n",
       "<style scoped>\n",
       "    .dataframe tbody tr th:only-of-type {\n",
       "        vertical-align: middle;\n",
       "    }\n",
       "\n",
       "    .dataframe tbody tr th {\n",
       "        vertical-align: top;\n",
       "    }\n",
       "\n",
       "    .dataframe thead th {\n",
       "        text-align: right;\n",
       "    }\n",
       "</style>\n",
       "<table border=\"1\" class=\"dataframe\">\n",
       "  <thead>\n",
       "    <tr style=\"text-align: right;\">\n",
       "      <th></th>\n",
       "      <th>2023-05-21</th>\n",
       "      <th>30.6</th>\n",
       "      <th>69.0</th>\n",
       "      <th>Patchy rain possible</th>\n",
       "    </tr>\n",
       "  </thead>\n",
       "  <tbody>\n",
       "    <tr>\n",
       "      <th>0</th>\n",
       "      <td>2023-05-22</td>\n",
       "      <td>29.6</td>\n",
       "      <td>73.0</td>\n",
       "      <td>Patchy rain possible</td>\n",
       "    </tr>\n",
       "    <tr>\n",
       "      <th>1</th>\n",
       "      <td>2023-05-23</td>\n",
       "      <td>29.8</td>\n",
       "      <td>75.0</td>\n",
       "      <td>Patchy light rain with thunder</td>\n",
       "    </tr>\n",
       "    <tr>\n",
       "      <th>2</th>\n",
       "      <td>2023-05-24</td>\n",
       "      <td>28.8</td>\n",
       "      <td>77.0</td>\n",
       "      <td>Patchy light rain with thunder</td>\n",
       "    </tr>\n",
       "    <tr>\n",
       "      <th>3</th>\n",
       "      <td>2023-05-25</td>\n",
       "      <td>28.5</td>\n",
       "      <td>77.0</td>\n",
       "      <td>Moderate or heavy rain shower</td>\n",
       "    </tr>\n",
       "    <tr>\n",
       "      <th>4</th>\n",
       "      <td>2023-05-26</td>\n",
       "      <td>29.7</td>\n",
       "      <td>69.0</td>\n",
       "      <td>Thundery outbreaks possible</td>\n",
       "    </tr>\n",
       "  </tbody>\n",
       "</table>\n",
       "</div>"
      ],
      "text/plain": [
       "   2023-05-21  30.6  69.0            Patchy rain possible\n",
       "0  2023-05-22  29.6  73.0            Patchy rain possible\n",
       "1  2023-05-23  29.8  75.0  Patchy light rain with thunder\n",
       "2  2023-05-24  28.8  77.0  Patchy light rain with thunder\n",
       "3  2023-05-25  28.5  77.0   Moderate or heavy rain shower\n",
       "4  2023-05-26  29.7  69.0     Thundery outbreaks possible"
      ]
     },
     "execution_count": 4,
     "metadata": {},
     "output_type": "execute_result"
    }
   ],
   "source": [
    "#loading csv file\n",
    "import pandas as pd\n",
    "df=pd.read_csv('weather_data.csv')\n",
    "df.head()"
   ]
  },
  {
   "cell_type": "code",
   "execution_count": 9,
   "id": "5562df33",
   "metadata": {},
   "outputs": [
    {
     "name": "stdout",
     "output_type": "stream",
     "text": [
      "<class 'pandas.core.frame.DataFrame'>\n",
      "RangeIndex: 30 entries, 0 to 29\n",
      "Data columns (total 3 columns):\n",
      " #   Column      Non-Null Count  Dtype  \n",
      "---  ------      --------------  -----  \n",
      " 0   2023-05-21  30 non-null     object \n",
      " 1   30.6        30 non-null     float64\n",
      " 2   69.0        30 non-null     float64\n",
      "dtypes: float64(2), object(1)\n",
      "memory usage: 848.0+ bytes\n"
     ]
    }
   ],
   "source": [
    "# Create feature set and target variable\n",
    "X=df.drop(['Patchy rain possible'], axis=1)\n",
    "y=df['Patchy rain possible']\n",
    "X.info()"
   ]
  },
  {
   "cell_type": "code",
   "execution_count": 10,
   "id": "61af67b8",
   "metadata": {},
   "outputs": [
    {
     "data": {
      "text/plain": [
       "array([4, 3, 3, 1, 5, 4, 5, 3, 5, 4, 4, 5, 2, 0, 4, 1, 0, 4, 6, 1, 1, 1,\n",
       "       0, 1, 0, 4, 0, 1, 6, 6])"
      ]
     },
     "execution_count": 10,
     "metadata": {},
     "output_type": "execute_result"
    }
   ],
   "source": [
    "# Encoding\n",
    "from sklearn.preprocessing import LabelEncoder\n",
    "le=LabelEncoder()\n",
    "le.fit_transform(y)"
   ]
  },
  {
   "cell_type": "code",
   "execution_count": 23,
   "id": "3aa0e10d",
   "metadata": {},
   "outputs": [],
   "source": [
    "lel=LabelEncoder()\n",
    "target=df['2023-05-21']\n",
    "target=lel.fit_transform(target)\n",
    "X['2023-05-21']=target"
   ]
  },
  {
   "cell_type": "code",
   "execution_count": 24,
   "id": "0b16f75a",
   "metadata": {},
   "outputs": [],
   "source": [
    "# Creation of training and testing set\n",
    "from sklearn.model_selection import train_test_split"
   ]
  },
  {
   "cell_type": "code",
   "execution_count": 25,
   "id": "8c586781",
   "metadata": {},
   "outputs": [],
   "source": [
    "X_train, X_test, y_train, y_test=train_test_split(X,y, test_size=0.2)"
   ]
  },
  {
   "cell_type": "code",
   "execution_count": 26,
   "id": "3dd99788",
   "metadata": {},
   "outputs": [],
   "source": [
    "# import a model\n",
    "from sklearn.tree import DecisionTreeClassifier\n",
    "model=DecisionTreeClassifier()"
   ]
  },
  {
   "cell_type": "code",
   "execution_count": 27,
   "id": "5f54ebbe",
   "metadata": {},
   "outputs": [
    {
     "data": {
      "text/html": [
       "<style>#sk-container-id-1 {color: black;background-color: white;}#sk-container-id-1 pre{padding: 0;}#sk-container-id-1 div.sk-toggleable {background-color: white;}#sk-container-id-1 label.sk-toggleable__label {cursor: pointer;display: block;width: 100%;margin-bottom: 0;padding: 0.3em;box-sizing: border-box;text-align: center;}#sk-container-id-1 label.sk-toggleable__label-arrow:before {content: \"▸\";float: left;margin-right: 0.25em;color: #696969;}#sk-container-id-1 label.sk-toggleable__label-arrow:hover:before {color: black;}#sk-container-id-1 div.sk-estimator:hover label.sk-toggleable__label-arrow:before {color: black;}#sk-container-id-1 div.sk-toggleable__content {max-height: 0;max-width: 0;overflow: hidden;text-align: left;background-color: #f0f8ff;}#sk-container-id-1 div.sk-toggleable__content pre {margin: 0.2em;color: black;border-radius: 0.25em;background-color: #f0f8ff;}#sk-container-id-1 input.sk-toggleable__control:checked~div.sk-toggleable__content {max-height: 200px;max-width: 100%;overflow: auto;}#sk-container-id-1 input.sk-toggleable__control:checked~label.sk-toggleable__label-arrow:before {content: \"▾\";}#sk-container-id-1 div.sk-estimator input.sk-toggleable__control:checked~label.sk-toggleable__label {background-color: #d4ebff;}#sk-container-id-1 div.sk-label input.sk-toggleable__control:checked~label.sk-toggleable__label {background-color: #d4ebff;}#sk-container-id-1 input.sk-hidden--visually {border: 0;clip: rect(1px 1px 1px 1px);clip: rect(1px, 1px, 1px, 1px);height: 1px;margin: -1px;overflow: hidden;padding: 0;position: absolute;width: 1px;}#sk-container-id-1 div.sk-estimator {font-family: monospace;background-color: #f0f8ff;border: 1px dotted black;border-radius: 0.25em;box-sizing: border-box;margin-bottom: 0.5em;}#sk-container-id-1 div.sk-estimator:hover {background-color: #d4ebff;}#sk-container-id-1 div.sk-parallel-item::after {content: \"\";width: 100%;border-bottom: 1px solid gray;flex-grow: 1;}#sk-container-id-1 div.sk-label:hover label.sk-toggleable__label {background-color: #d4ebff;}#sk-container-id-1 div.sk-serial::before {content: \"\";position: absolute;border-left: 1px solid gray;box-sizing: border-box;top: 0;bottom: 0;left: 50%;z-index: 0;}#sk-container-id-1 div.sk-serial {display: flex;flex-direction: column;align-items: center;background-color: white;padding-right: 0.2em;padding-left: 0.2em;position: relative;}#sk-container-id-1 div.sk-item {position: relative;z-index: 1;}#sk-container-id-1 div.sk-parallel {display: flex;align-items: stretch;justify-content: center;background-color: white;position: relative;}#sk-container-id-1 div.sk-item::before, #sk-container-id-1 div.sk-parallel-item::before {content: \"\";position: absolute;border-left: 1px solid gray;box-sizing: border-box;top: 0;bottom: 0;left: 50%;z-index: -1;}#sk-container-id-1 div.sk-parallel-item {display: flex;flex-direction: column;z-index: 1;position: relative;background-color: white;}#sk-container-id-1 div.sk-parallel-item:first-child::after {align-self: flex-end;width: 50%;}#sk-container-id-1 div.sk-parallel-item:last-child::after {align-self: flex-start;width: 50%;}#sk-container-id-1 div.sk-parallel-item:only-child::after {width: 0;}#sk-container-id-1 div.sk-dashed-wrapped {border: 1px dashed gray;margin: 0 0.4em 0.5em 0.4em;box-sizing: border-box;padding-bottom: 0.4em;background-color: white;}#sk-container-id-1 div.sk-label label {font-family: monospace;font-weight: bold;display: inline-block;line-height: 1.2em;}#sk-container-id-1 div.sk-label-container {text-align: center;}#sk-container-id-1 div.sk-container {/* jupyter's `normalize.less` sets `[hidden] { display: none; }` but bootstrap.min.css set `[hidden] { display: none !important; }` so we also need the `!important` here to be able to override the default hidden behavior on the sphinx rendered scikit-learn.org. See: https://github.com/scikit-learn/scikit-learn/issues/21755 */display: inline-block !important;position: relative;}#sk-container-id-1 div.sk-text-repr-fallback {display: none;}</style><div id=\"sk-container-id-1\" class=\"sk-top-container\"><div class=\"sk-text-repr-fallback\"><pre>DecisionTreeClassifier()</pre><b>In a Jupyter environment, please rerun this cell to show the HTML representation or trust the notebook. <br />On GitHub, the HTML representation is unable to render, please try loading this page with nbviewer.org.</b></div><div class=\"sk-container\" hidden><div class=\"sk-item\"><div class=\"sk-estimator sk-toggleable\"><input class=\"sk-toggleable__control sk-hidden--visually\" id=\"sk-estimator-id-1\" type=\"checkbox\" checked><label for=\"sk-estimator-id-1\" class=\"sk-toggleable__label sk-toggleable__label-arrow\">DecisionTreeClassifier</label><div class=\"sk-toggleable__content\"><pre>DecisionTreeClassifier()</pre></div></div></div></div></div>"
      ],
      "text/plain": [
       "DecisionTreeClassifier()"
      ]
     },
     "execution_count": 27,
     "metadata": {},
     "output_type": "execute_result"
    }
   ],
   "source": [
    "# Perform a training\n",
    "model.fit(X_train, y_train)"
   ]
  },
  {
   "cell_type": "code",
   "execution_count": 28,
   "id": "b26cdd08",
   "metadata": {},
   "outputs": [],
   "source": [
    "y_pred=model.predict(X_test)"
   ]
  },
  {
   "cell_type": "code",
   "execution_count": 30,
   "id": "496c947d",
   "metadata": {},
   "outputs": [
    {
     "name": "stdout",
     "output_type": "stream",
     "text": [
      "0.16666666666666666\n"
     ]
    }
   ],
   "source": [
    "from sklearn.metrics import accuracy_score\n",
    "print(accuracy_score(y_pred,y_test))"
   ]
  },
  {
   "cell_type": "code",
   "execution_count": null,
   "id": "c62aa99d",
   "metadata": {},
   "outputs": [],
   "source": []
  }
 ],
 "metadata": {
  "kernelspec": {
   "display_name": "Python 3 (ipykernel)",
   "language": "python",
   "name": "python3"
  },
  "language_info": {
   "codemirror_mode": {
    "name": "ipython",
    "version": 3
   },
   "file_extension": ".py",
   "mimetype": "text/x-python",
   "name": "python",
   "nbconvert_exporter": "python",
   "pygments_lexer": "ipython3",
   "version": "3.9.16"
  }
 },
 "nbformat": 4,
 "nbformat_minor": 5
}
